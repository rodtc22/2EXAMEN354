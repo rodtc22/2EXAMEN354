{
 "cells": [
  {
   "cell_type": "code",
   "execution_count": null,
   "metadata": {},
   "outputs": [],
   "source": [
    "import numpy as np\n",
    "import matplotlib.pyplot as plt\n",
    "from sklearn import datasets"
   ]
  },
  {
   "cell_type": "code",
   "execution_count": null,
   "metadata": {},
   "outputs": [],
   "source": [
    "# inputs = np.array([[0,0,1], [0,1,1], [1,0,1], [1,1,1]])\n",
    "# y = np.array([[0], [1], [1], [0]])\n",
    "\n",
    "iris = datasets.load_iris()\n",
    "x = iris.data\n",
    "nroinputs = len(x)\n",
    "inputs = np.random.randn(nroinputs, 5)\n",
    "for i in range(len(x)):\n",
    "  for j in range(len(x[i])):\n",
    "    x[i,j] = x[i,j]\n",
    "\n",
    "y2 = iris.target\n",
    "\n",
    "inputs = np.array(inputs)\n",
    "y = []\n",
    "for x in y2:\n",
    "  vec = [x]\n",
    "  y.append(vec)\n",
    "y = np.array(y)"
   ]
  },
  {
   "cell_type": "code",
   "execution_count": null,
   "metadata": {},
   "outputs": [],
   "source": [
    "class NeuralNet():\n",
    "  def __init__(self, input_size, hidden_size, output_size):\n",
    "    self.input_size = input_size\n",
    "    self.hidden_size = hidden_size\n",
    "    self.output_size = output_size\n",
    "\n",
    "    self.W1 = np.random.randn(self.input_size, self.hidden_size) #crea un array de N x M elementos con valores aleatorios\n",
    "    self.W2 = np.random.randn(self.hidden_size, self.output_size)\n",
    "  \n",
    "  def sigmoid(self, x):\n",
    "    return 1 / (1 + (np.exp(-x)))\n",
    "\n",
    "  def sigmoid_der (self, x):\n",
    "    return x * (1 - x)\n",
    "\n",
    "  def mse (self, output, target): #es una funcion para que ayude a representar graficamente\n",
    "    return np.mean((output - target) ** 2) / 2\n",
    "\n",
    "  def forward (self, X):\n",
    "    self.z1 = np.dot(X, self.W1) #producto de la ENTRADA por la CAPA OCULTA\n",
    "    self.a1 = self.sigmoid(self.z1) # funcion de activacion \n",
    "\n",
    "    self.z2 = np.dot(self.a1, self.W2) # producto de la CAPA OCULTA por la SALIDA\n",
    "    self.output = self.sigmoid(self.z2) # funcion de activacion \n",
    "    return self.output\n",
    "\n",
    "  def backpropagation(self, X, y, lr): #inputs, objetivo, taza de aprendizaje\n",
    "    output = self.forward(X)\n",
    "\n",
    "    error_output = output - y\n",
    "    delta_out = error_output * self.sigmoid_der(output)\n",
    "    derivative_W2 = np.dot(self.a1.T, delta_out)\n",
    "    \n",
    "    error_hidden = np.dot(delta_out, self.W2.T)\n",
    "    delta_hidden = error_hidden * self.sigmoid_der(self.a1)\n",
    "    derivative_W1 = np.dot(inputs.T, delta_hidden)\n",
    "\n",
    "    #Descenso del gradiente\n",
    "    self.W2 -= derivative_W2 * lr\n",
    "    self.W1 -= derivative_W1 * lr\n",
    "    \n",
    "    return self.mse(output,y)"
   ]
  },
  {
   "cell_type": "code",
   "execution_count": null,
   "metadata": {},
   "outputs": [],
   "source": [
    "nn = NeuralNet(5,5,1)\n",
    "\n",
    "print(\"antes: \")\n",
    "print(nn.forward(inputs))\n",
    "errors = []\n",
    "error = 1\n",
    "ephocs = 10001\n",
    "for i in range(ephocs):\n",
    "  error = nn.backpropagation(inputs, y, 0.7)\n",
    "  errors.append(error)\n",
    "  \n",
    "print(\"Despues:\")\n",
    "print(nn.forward(inputs))\n",
    "\n",
    "x_axis = range(0, len(errors))\n",
    "plt.plot(x_axis, errors)\n",
    "plt.show()"
   ]
  }
 ],
 "metadata": {
  "language_info": {
   "name": "python"
  },
  "orig_nbformat": 4
 },
 "nbformat": 4,
 "nbformat_minor": 2
}
